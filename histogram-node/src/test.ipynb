{
 "cells": [
  {
   "cell_type": "code",
   "execution_count": null,
   "metadata": {},
   "outputs": [],
   "source": [
    "import re\n",
    "import json\n",
    "\n",
    "# 读取 JSONP 文件内容\n",
    "with open('world-countries.jsonp', 'r', encoding='utf-8') as file:\n",
    "    jsonp_content = file.read()\n",
    "\n",
    "# 使用正则表达式去除 JSONP 包装函数\n",
    "json_content = re.sub(r'^[^{]*|[^}]*$', '', jsonp_content)\n",
    "\n",
    "# 将 JSON 内容写入新的 JSON 文件\n",
    "with open('world-countries.json', 'w', encoding='utf-8') as file:\n",
    "    json.dump(json.loads(json_content), file, ensure_ascii=False, indent=4)\n",
    "\n"
   ]
  },
  {
   "cell_type": "code",
   "execution_count": null,
   "metadata": {},
   "outputs": [],
   "source": [
    "# 读取json数据\n",
    "with open('world-countries.json') as f:\n",
    "    data = json.load(f)\n",
    "# 输出数据\n",
    "print(data)"
   ]
  },
  {
   "cell_type": "code",
   "execution_count": null,
   "metadata": {},
   "outputs": [],
   "source": [
    "# 将json转为csv\n",
    "import csv\n",
    "with open('world-countries', 'w') as f:\n",
    "    writer = csv.writer(f)\n",
    "    writer.writerow(['Country', 'Traffic'])\n",
    "    for country, traffic in data.items():\n",
    "        writer.writerow([country, traffic])\n",
    "\n",
    "# 读取csv数据\n",
    "with open('world-countries.csv') as f:\n",
    "    reader = csv.reader(f)\n",
    "    for row in reader:\n",
    "        print(row)"
   ]
  },
  {
   "cell_type": "code",
   "execution_count": null,
   "metadata": {},
   "outputs": [],
   "source": []
  }
 ],
 "metadata": {
  "kernelspec": {
   "display_name": "pytorch",
   "language": "python",
   "name": "python3"
  },
  "language_info": {
   "codemirror_mode": {
    "name": "ipython",
    "version": 3
   },
   "file_extension": ".py",
   "mimetype": "text/x-python",
   "name": "python",
   "nbconvert_exporter": "python",
   "pygments_lexer": "ipython3",
   "version": "3.8.19"
  }
 },
 "nbformat": 4,
 "nbformat_minor": 2
}
